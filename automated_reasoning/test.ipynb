{
 "cells": [
  {
   "cell_type": "code",
   "execution_count": 2,
   "metadata": {},
   "outputs": [],
   "source": [
    "import subprocess\n",
    "import os"
   ]
  },
  {
   "cell_type": "code",
   "execution_count": 13,
   "metadata": {},
   "outputs": [
    {
     "name": "stdout",
     "output_type": "stream",
     "text": [
      "% QUERY:I would like to know if\n",
      "     'best_suggestion' holds (for user).\n",
      "\n",
      "\tANSWER:\t1 (in 0.451 ms)\n",
      " ? "
     ]
    }
   ],
   "source": [
    "import os\n",
    "import time\n",
    "prolog_code = \"\"\"\n",
    "    % Predicate:\n",
    "    \n",
    "    credit_score(good). % bad, good\n",
    "    down_payment(below). % below, met\n",
    "    house_value(below). % below, same, above\n",
    "    cc_debt(below). % below, higher\n",
    "    car_debt(below). % below, higher\n",
    "    student_debt(below). % below, higher\n",
    "    fedit(above). % met, above\n",
    "    \n",
    "    #pred credit_score(X) :: 'the user has a @(X) credit score'.\n",
    "    #pred down_payment(X) :: 'the user down payment @(X) expectation'.\n",
    "    \n",
    "    #pred house_value(same) :: 'the user house value same as the market rate'.\n",
    "    #pred house_value(X) :: 'the user house value @(X) the market rate'.\n",
    "    \n",
    "    #pred cc_debt(X) :: 'the user credit card debt is @(X) than average'.\n",
    "    #pred car_debt(X) :: 'the user car debt is @(X) than average'.\n",
    "    #pred student_debt(X) :: 'the user student debt is @(X) than average'.\n",
    "    #pred fedit(X) :: 'the user Front-end debt to income ratio @(X) expectation'.\n",
    "\n",
    "    #pred suggest(X) :: 'The best suggestion for the user currently is to @(X)'.\n",
    "    \n",
    "    % 1. If the user has a bad credit score and higher credit card debt, suggest paying off credit card debt first.\n",
    "    suggest(pay_off_credit_card_debt_first) :- credit_score(bad), cc_debt(higher).\n",
    "\n",
    "    % 2. If the user just has a bad credit score, suggest a way to improve the credit score.\n",
    "    suggest(improve_their_credit_score) :- credit_score(bad).\n",
    "\n",
    "    % 3. If the user's down payment is below and house value is higher or mid, suggest finding a cheaper house.\n",
    "    suggest(find_a_cheaper_house) :- down_payment(below), house_value(same).\n",
    "    suggest(find_a_cheaper_house) :- down_payment(below), house_value(above).\n",
    "\n",
    "    % 4. If the user's down payment is below, but house value is below, suggest getting more income for the down payment.\n",
    "    suggest(get_better_income) :- down_payment(below), house_value(below).\n",
    "\n",
    "    % 5. If fedit is above, suggest finding a cheaper house or getting more income.\n",
    "    suggest(find_a_cheaper_house) :- down_payment(user,met), fedit(above), not_cheap_house(user).\n",
    "    suggest(get_better_income) :- fedit(above), house_value(low).\n",
    "\n",
    "    % 6. Suggest the users to pay off above average debt first.\n",
    "    suggest(pay_off_credit_card_debt_first) :- cc_debt(higher).\n",
    "    suggest(pay_off_student_debt_first) :- student_debt(higher).\n",
    "    suggest(pay_off_car_debt_first) :- car_debt(higher).\n",
    "\n",
    "\n",
    "    % Find the suggestion orders for the user.\n",
    "    \n",
    "    best_suggestion(user) :- suggest(pay_off_credit_card_debt_first).\n",
    "    best_suggestion(user) :- suggest(improve_their_credit_score).\n",
    "    best_suggestion(user) :- suggest(find_a_cheaper_house).\n",
    "    % Suggest the users to pay off above average debt first based on interest rate estimate.\n",
    "    best_suggestion(user) :- suggest(pay_off_credit_card_debt_first).\n",
    "    best_suggestion(user) :- suggest(pay_off_car_debt_first).\n",
    "    best_suggestion(user) :- suggest(pay_off_student_debt_first).\n",
    "    % Final suggestion, get more income.\n",
    "    best_suggestion(user) :- suggest(get_more_income).\n",
    "\n",
    "    ?- best_suggestion(user).\n",
    "\n",
    "\"\"\"\n",
    "\n",
    "with open('temp.pro', 'w') as file:\n",
    "    file.write(prolog_code)\n",
    "    \n",
    "\n",
    "cmd = 'scasp temp.pro --html=bob --human --quiet'\n",
    "process = subprocess.Popen(cmd, shell=True)\n",
    "# time.sleep(1/1000)\n",
    "\n",
    "# # Terminate the subprocess after 1 second\n",
    "# process.terminate()"
   ]
  }
 ],
 "metadata": {
  "kernelspec": {
   "display_name": "base",
   "language": "python",
   "name": "python3"
  },
  "language_info": {
   "codemirror_mode": {
    "name": "ipython",
    "version": 3
   },
   "file_extension": ".py",
   "mimetype": "text/x-python",
   "name": "python",
   "nbconvert_exporter": "python",
   "pygments_lexer": "ipython3",
   "version": "3.11.5"
  }
 },
 "nbformat": 4,
 "nbformat_minor": 2
}
