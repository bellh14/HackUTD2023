{
 "cells": [
  {
   "cell_type": "code",
   "execution_count": 55,
   "metadata": {},
   "outputs": [],
   "source": [
    "import pandas as pd\n",
    "import numpy as np\n",
    "import matplotlib.pyplot as plt\n",
    "import sklearn"
   ]
  },
  {
   "cell_type": "code",
   "execution_count": 56,
   "metadata": {},
   "outputs": [],
   "source": [
    "homebuyerDF = pd.read_csv('HomeBuyerInfo.csv')\n",
    "\n",
    "homebuyerDF[\"LTV\"] = homebuyerDF[\"LoanAmount\"]/homebuyerDF[\"AppraisedValue\"]\n",
    "homebuyerDF[\"MonthlyDebt\"] = homebuyerDF[\"CarPayment\"] + homebuyerDF[\"CreditCardPayment\"] + homebuyerDF[\"MonthlyMortgagePayment\"] + homebuyerDF[\"StudentLoanPayments\"]\n",
    "homebuyerDF[\"DTI\"] = homebuyerDF[\"MonthlyDebt\"]/homebuyerDF[\"GrossMonthlyIncome\"]\n",
    "homebuyerDF[\"FEDTI\"] = homebuyerDF[\"MonthlyMortgagePayment\"]/homebuyerDF[\"GrossMonthlyIncome\"]\n",
    "#Add Approval Column\n",
    "homebuyerDF[\"Approved\"] = \"\"\n",
    "\n",
    "\"\"\"\n",
    "A potential buyer should be approved for home purchases iff:\n",
    "CreditScore >= 640\n",
    "LTV <= 0.8 is preferred\n",
    "LTV > .8 and < .95 is approved but high risk (high interest rate)\n",
    "DTI {\n",
    "    .43 is hard cap\n",
    "    .36 is soft cap\n",
    "}\n",
    "\n",
    "FEDTI <= .28\n",
    "\n",
    "\"\"\"\n",
    "#Approval is Y, R-LTV, R-DTI, N for HomebuyerDF\n",
    "for i, row in homebuyerDF.iterrows():\n",
    "    if (\n",
    "        row[\"CreditScore\"] >= 640 and\n",
    "        row[\"LTV\"] <= .8 and\n",
    "        row[\"DTI\"] <= .36 and\n",
    "        row[\"FEDTI\"] <= .28\n",
    "    ):\n",
    "        homebuyerDF.at[i, \"Approved\"] = \"Y\"\n",
    "    elif (\n",
    "        row[\"CreditScore\"] >= 640 and\n",
    "        row[\"LTV\"] <= .95 and\n",
    "        row[\"DTI\"] <= .36 and\n",
    "        row[\"FEDTI\"] <= .28\n",
    "    ):\n",
    "        pmi = (homebuyerDF.at[i, 'AppraisedValue']*0.01)/12\n",
    "        homebuyerDF.at[i, \"MonthlyMortgagePayment\"]+=pmi\n",
    "        homebuyerDF.at[i, \"MonthlyDebt\"] += pmi\n",
    "        homebuyerDF.at[i, \"Approved\"] = \"R-LTV\"\n",
    "    elif (\n",
    "        row[\"CreditScore\"] >= 640 and\n",
    "        row[\"LTV\"] <= .8 and\n",
    "        row[\"DTI\"] <= .43 and\n",
    "        row[\"FEDTI\"] <= .28\n",
    "    ):\n",
    "        homebuyerDF.at[i, \"Approved\"] = \"R-DTI\"\n",
    "    else:\n",
    "        homebuyerDF.at[i, \"Approved\"] = \"N\"\n",
    "\n",
    "        \n",
    "#Save to CSV\n",
    "homebuyerDF.to_csv(\"AnalyzedHomeBuyerInfo.csv\", index=False)\n",
    "\n"
   ]
  },
  {
   "cell_type": "code",
   "execution_count": 57,
   "metadata": {},
   "outputs": [],
   "source": [
    "homebuyerDF = pd.read_csv('AnalyzedHomeBuyerInfo.csv')"
   ]
  },
  {
   "cell_type": "code",
   "execution_count": 58,
   "metadata": {},
   "outputs": [
    {
     "name": "stdout",
     "output_type": "stream",
     "text": [
      "0.1229118273591918 0.14933360366814608 0.613398192516889\n",
      "0.11969824845773651 0.1466254218478656 0.6184868043147931\n"
     ]
    }
   ],
   "source": [
    "cc_md_pct = homebuyerDF[\"CreditCardPayment\"]/homebuyerDF[\"MonthlyDebt\"]\n",
    "c_md_pct = homebuyerDF[\"CarPayment\"]/homebuyerDF[\"MonthlyDebt\"]\n",
    "mm_md_pct = homebuyerDF[\"MonthlyMortgagePayment\"]/homebuyerDF[\"MonthlyDebt\"]\n",
    "\n",
    "print(cc_md_pct.mean(), c_md_pct.mean(), mm_md_pct.mean())\n",
    "print(cc_md_pct.median(), c_md_pct.median(), mm_md_pct.median())"
   ]
  },
  {
   "cell_type": "code",
   "execution_count": 59,
   "metadata": {},
   "outputs": [
    {
     "data": {
      "text/plain": [
       "N        7819\n",
       "R-LTV    1023\n",
       "Y         885\n",
       "R-DTI     273\n",
       "Name: Approved, dtype: int64"
      ]
     },
     "execution_count": 59,
     "metadata": {},
     "output_type": "execute_result"
    }
   ],
   "source": [
    "\n",
    "approvedDF = homebuyerDF[homebuyerDF[\"Approved\"] == \"Y\"].drop(columns=[\"Approved\", \"ID\"])\n",
    "ltv_ristDF = homebuyerDF[homebuyerDF[\"Approved\"] == \"R-LTV\"].drop(columns=[\"Approved\", \"ID\"])\n",
    "dti_riskDF = homebuyerDF[homebuyerDF[\"Approved\"] == \"R-DTI\"].drop(columns=[\"Approved\", \"ID\"])\n",
    "\n",
    "all_approvedDF = homebuyerDF[homebuyerDF[\"Approved\"] != \"N\"].drop(columns=[\"Approved\", \"ID\"])\n",
    "\n",
    "not_approvedDF = homebuyerDF[homebuyerDF[\"Approved\"] == \"N\"].drop(columns=[\"Approved\", \"ID\"])\n",
    "\n",
    "df_list = [approvedDF, ltv_ristDF, dti_riskDF, not_approvedDF]\n",
    "\n",
    "homebuyerDF[\"Approved\"].value_counts()\n"
   ]
  },
  {
   "cell_type": "code",
   "execution_count": 60,
   "metadata": {},
   "outputs": [],
   "source": [
    "def breakdown_monthly_debt(dataframeVal):\n",
    "    dataframeVal = pd.DataFrame(dataframeVal)\n",
    "    # breakdown of monthly debt\n",
    "    cc_md_pct = dataframeVal[\"CreditCardPayment\"]/dataframeVal[\"MonthlyDebt\"]\n",
    "    c_md_pct = dataframeVal[\"CarPayment\"]/dataframeVal[\"MonthlyDebt\"]\n",
    "    mm_md_pct = dataframeVal[\"MonthlyMortgagePayment\"]/dataframeVal[\"MonthlyDebt\"]\n",
    "\n",
    "    print(cc_md_pct.mean(), c_md_pct.mean(), mm_md_pct.mean())\n",
    "    print(cc_md_pct.median(), c_md_pct.median(), mm_md_pct.median())"
   ]
  },
  {
   "cell_type": "code",
   "execution_count": 61,
   "metadata": {},
   "outputs": [
    {
     "name": "stdout",
     "output_type": "stream",
     "text": [
      "0.14692126860888408 0.1791200226160059 0.5370657054699185\n",
      "0.14360581137283424 0.1779586594296812 0.5345467537365277\n",
      "0.12403668368142651 0.15349320513994205 0.6071568464199925\n",
      "0.12180911012783072 0.152604121727865 0.6074864298146474\n",
      "0.14312065486612718 0.17026438942819933 0.5560895662617273\n",
      "0.14376131887007337 0.16973707488034728 0.5610415673876742\n",
      "0.11934153788061179 0.14468718371840855 0.6248554636591517\n",
      "0.11681265215666725 0.14172761339171894 0.6302478837702867\n"
     ]
    }
   ],
   "source": [
    "for dfVal in df_list:\n",
    "    breakdown_monthly_debt(dfVal)"
   ]
  },
  {
   "cell_type": "code",
   "execution_count": 62,
   "metadata": {},
   "outputs": [
    {
     "data": {
      "text/plain": [
       "<Axes: >"
      ]
     },
     "execution_count": 62,
     "metadata": {},
     "output_type": "execute_result"
    },
    {
     "data": {
      "image/png": "[encoded data removed]",
      "text/plain": [
       "<Figure size 640x480 with 1 Axes>"
      ]
     },
     "metadata": {},
     "output_type": "display_data"
    }
   ],
   "source": [
    "from scipy.stats import percentileofscore\n",
    "\n",
    "# pVal = percentileofscore(all_approvedDF[\"LTV\"], )\n",
    "all_approvedDF[\"LTV\"].describe()\n",
    "all_approvedDF[\"DTI\"].hist(bins=100)"
   ]
  },
  {
   "cell_type": "code",
   "execution_count": 66,
   "metadata": {},
   "outputs": [
    {
     "data": {
      "text/html": [
       "<div>\n",
       "<style scoped>\n",
       "    .dataframe tbody tr th:only-of-type {\n",
       "        vertical-align: middle;\n",
       "    }\n",
       "\n",
       "    .dataframe tbody tr th {\n",
       "        vertical-align: top;\n",
       "    }\n",
       "\n",
       "    .dataframe thead th {\n",
       "        text-align: right;\n",
       "    }\n",
       "</style>\n",
       "<table border=\"1\" class=\"dataframe\">\n",
       "  <thead>\n",
       "    <tr style=\"text-align: right;\">\n",
       "      <th></th>\n",
       "      <th>CreditValue</th>\n",
       "      <th>DownPaymentValue</th>\n",
       "      <th>DebtValue</th>\n",
       "      <th>HousingDebtValue</th>\n",
       "    </tr>\n",
       "  </thead>\n",
       "  <tbody>\n",
       "    <tr>\n",
       "      <th>0</th>\n",
       "      <td>Good</td>\n",
       "      <td>Bad</td>\n",
       "      <td>Bad</td>\n",
       "      <td>Bad</td>\n",
       "    </tr>\n",
       "    <tr>\n",
       "      <th>1</th>\n",
       "      <td>Bad</td>\n",
       "      <td>Bad</td>\n",
       "      <td>Bad</td>\n",
       "      <td>Bad</td>\n",
       "    </tr>\n",
       "    <tr>\n",
       "      <th>2</th>\n",
       "      <td>Good</td>\n",
       "      <td>Bad</td>\n",
       "      <td>Bad</td>\n",
       "      <td>Bad</td>\n",
       "    </tr>\n",
       "    <tr>\n",
       "      <th>3</th>\n",
       "      <td>Good</td>\n",
       "      <td>Bad</td>\n",
       "      <td>Good</td>\n",
       "      <td>Good</td>\n",
       "    </tr>\n",
       "    <tr>\n",
       "      <th>4</th>\n",
       "      <td>Bad</td>\n",
       "      <td>Bad</td>\n",
       "      <td>Bad</td>\n",
       "      <td>Bad</td>\n",
       "    </tr>\n",
       "    <tr>\n",
       "      <th>...</th>\n",
       "      <td>...</td>\n",
       "      <td>...</td>\n",
       "      <td>...</td>\n",
       "      <td>...</td>\n",
       "    </tr>\n",
       "    <tr>\n",
       "      <th>9995</th>\n",
       "      <td>Good</td>\n",
       "      <td>Good</td>\n",
       "      <td>Bad</td>\n",
       "      <td>Bad</td>\n",
       "    </tr>\n",
       "    <tr>\n",
       "      <th>9996</th>\n",
       "      <td>Good</td>\n",
       "      <td>Bad</td>\n",
       "      <td>Mid</td>\n",
       "      <td>Good</td>\n",
       "    </tr>\n",
       "    <tr>\n",
       "      <th>9997</th>\n",
       "      <td>Bad</td>\n",
       "      <td>Bad</td>\n",
       "      <td>Good</td>\n",
       "      <td>Good</td>\n",
       "    </tr>\n",
       "    <tr>\n",
       "      <th>9998</th>\n",
       "      <td>Good</td>\n",
       "      <td>Bad</td>\n",
       "      <td>Mid</td>\n",
       "      <td>Good</td>\n",
       "    </tr>\n",
       "    <tr>\n",
       "      <th>9999</th>\n",
       "      <td>Bad</td>\n",
       "      <td>Good</td>\n",
       "      <td>Bad</td>\n",
       "      <td>Bad</td>\n",
       "    </tr>\n",
       "  </tbody>\n",
       "</table>\n",
       "<p>10000 rows × 4 columns</p>\n",
       "</div>"
      ],
      "text/plain": [
       "     CreditValue DownPaymentValue DebtValue HousingDebtValue\n",
       "0           Good              Bad       Bad              Bad\n",
       "1            Bad              Bad       Bad              Bad\n",
       "2           Good              Bad       Bad              Bad\n",
       "3           Good              Bad      Good             Good\n",
       "4            Bad              Bad       Bad              Bad\n",
       "...          ...              ...       ...              ...\n",
       "9995        Good             Good       Bad              Bad\n",
       "9996        Good              Bad       Mid             Good\n",
       "9997         Bad              Bad      Good             Good\n",
       "9998        Good              Bad       Mid             Good\n",
       "9999         Bad             Good       Bad              Bad\n",
       "\n",
       "[10000 rows x 4 columns]"
      ]
     },
     "execution_count": 66,
     "metadata": {},
     "output_type": "execute_result"
    }
   ],
   "source": [
    "#######################\n",
    "'''\n",
    "Return Categorical values for each of the features for rejection.\n",
    "'''\n",
    "#######################\n",
    "\n",
    "categoricalDF = pd.DataFrame()\n",
    "\n",
    "categoricalDF[\"CreditValue\"] = np.where(homebuyerDF[\"CreditScore\"] < 640, \"Bad\", \"Good\")\n",
    "categoricalDF[\"DownPaymentValue\"] = np.where(homebuyerDF[\"LTV\"] < 0.8, \"Good\", \"Bad\")\n",
    "cnd = [homebuyerDF[\"DTI\"] < 0.36, homebuyerDF[\"DTI\"] < 0.43, homebuyerDF[\"DTI\"] >= 0.43]\n",
    "vals = [\"Good\", \"Mid\", \"Bad\"]\n",
    "categoricalDF[\"DebtValue\"] = np.select(cnd, vals)\n",
    "categoricalDF[\"HousingDebtValue\"] = np.where(homebuyerDF[\"FEDTI\"] <= 0.28, \"Good\", \"Bad\")\n",
    "\n",
    "categoricalDF"
   ]
  }
 ],
 "metadata": {
  "kernelspec": {
   "display_name": "base",
   "language": "python",
   "name": "python3"
  },
  "language_info": {
   "codemirror_mode": {
    "name": "ipython",
    "version": 3
   },
   "file_extension": ".py",
   "mimetype": "text/x-python",
   "name": "python",
   "nbconvert_exporter": "python",
   "pygments_lexer": "ipython3",
   "version": "3.11.4"
  }
 },
 "nbformat": 4,
 "nbformat_minor": 2
}
