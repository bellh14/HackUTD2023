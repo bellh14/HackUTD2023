{
 "cells": [
  {
   "cell_type": "code",
   "execution_count": 16,
   "metadata": {},
   "outputs": [],
   "source": [
    "import pandas as pd\n",
    "import numpy as np\n",
    "import matplotlib.pyplot as plt\n",
    "import sklearn"
   ]
  },
  {
   "cell_type": "code",
   "execution_count": 17,
   "metadata": {},
   "outputs": [
    {
     "ename": "OSError",
     "evalue": "[Errno 9] Bad file descriptor",
     "output_type": "error",
     "traceback": [
      "\u001b[1;31m---------------------------------------------------------------------------\u001b[0m",
      "\u001b[1;31mOSError\u001b[0m                                   Traceback (most recent call last)",
      "File \u001b[1;32mc:\\Users\\vkotr\\AppData\\Local\\Programs\\Python\\Python311\\Lib\\site-packages\\pandas\\io\\formats\\csvs.py:261\u001b[0m, in \u001b[0;36mCSVFormatter.save\u001b[1;34m(self)\u001b[0m\n\u001b[0;32m    251\u001b[0m \u001b[39mself\u001b[39m\u001b[39m.\u001b[39mwriter \u001b[39m=\u001b[39m csvlib\u001b[39m.\u001b[39mwriter(\n\u001b[0;32m    252\u001b[0m     handles\u001b[39m.\u001b[39mhandle,\n\u001b[0;32m    253\u001b[0m     lineterminator\u001b[39m=\u001b[39m\u001b[39mself\u001b[39m\u001b[39m.\u001b[39mlineterminator,\n\u001b[1;32m   (...)\u001b[0m\n\u001b[0;32m    258\u001b[0m     quotechar\u001b[39m=\u001b[39m\u001b[39mself\u001b[39m\u001b[39m.\u001b[39mquotechar,\n\u001b[0;32m    259\u001b[0m )\n\u001b[1;32m--> 261\u001b[0m \u001b[39mself\u001b[39;49m\u001b[39m.\u001b[39;49m_save()\n",
      "File \u001b[1;32mc:\\Users\\vkotr\\AppData\\Local\\Programs\\Python\\Python311\\Lib\\site-packages\\pandas\\io\\formats\\csvs.py:266\u001b[0m, in \u001b[0;36mCSVFormatter._save\u001b[1;34m(self)\u001b[0m\n\u001b[0;32m    265\u001b[0m     \u001b[39mself\u001b[39m\u001b[39m.\u001b[39m_save_header()\n\u001b[1;32m--> 266\u001b[0m \u001b[39mself\u001b[39;49m\u001b[39m.\u001b[39;49m_save_body()\n",
      "File \u001b[1;32mc:\\Users\\vkotr\\AppData\\Local\\Programs\\Python\\Python311\\Lib\\site-packages\\pandas\\io\\formats\\csvs.py:304\u001b[0m, in \u001b[0;36mCSVFormatter._save_body\u001b[1;34m(self)\u001b[0m\n\u001b[0;32m    303\u001b[0m     \u001b[39mbreak\u001b[39;00m\n\u001b[1;32m--> 304\u001b[0m \u001b[39mself\u001b[39;49m\u001b[39m.\u001b[39;49m_save_chunk(start_i, end_i)\n",
      "File \u001b[1;32mc:\\Users\\vkotr\\AppData\\Local\\Programs\\Python\\Python311\\Lib\\site-packages\\pandas\\io\\formats\\csvs.py:315\u001b[0m, in \u001b[0;36mCSVFormatter._save_chunk\u001b[1;34m(self, start_i, end_i)\u001b[0m\n\u001b[0;32m    314\u001b[0m ix \u001b[39m=\u001b[39m \u001b[39mself\u001b[39m\u001b[39m.\u001b[39mdata_index[slicer]\u001b[39m.\u001b[39m_format_native_types(\u001b[39m*\u001b[39m\u001b[39m*\u001b[39m\u001b[39mself\u001b[39m\u001b[39m.\u001b[39m_number_format)\n\u001b[1;32m--> 315\u001b[0m libwriters\u001b[39m.\u001b[39;49mwrite_csv_rows(\n\u001b[0;32m    316\u001b[0m     data,\n\u001b[0;32m    317\u001b[0m     ix,\n\u001b[0;32m    318\u001b[0m     \u001b[39mself\u001b[39;49m\u001b[39m.\u001b[39;49mnlevels,\n\u001b[0;32m    319\u001b[0m     \u001b[39mself\u001b[39;49m\u001b[39m.\u001b[39;49mcols,\n\u001b[0;32m    320\u001b[0m     \u001b[39mself\u001b[39;49m\u001b[39m.\u001b[39;49mwriter,\n\u001b[0;32m    321\u001b[0m )\n",
      "File \u001b[1;32mc:\\Users\\vkotr\\AppData\\Local\\Programs\\Python\\Python311\\Lib\\site-packages\\pandas\\_libs\\writers.pyx:72\u001b[0m, in \u001b[0;36mpandas._libs.writers.write_csv_rows\u001b[1;34m()\u001b[0m\n",
      "\u001b[1;31mOSError\u001b[0m: [Errno 9] Bad file descriptor",
      "\nDuring handling of the above exception, another exception occurred:\n",
      "\u001b[1;31mOSError\u001b[0m                                   Traceback (most recent call last)",
      "\u001b[1;31mOSError\u001b[0m: [Errno 9] Bad file descriptor",
      "\nDuring handling of the above exception, another exception occurred:\n",
      "\u001b[1;31mOSError\u001b[0m                                   Traceback (most recent call last)",
      "\u001b[1;32mc:\\Users\\vkotr\\OneDrive\\Documents\\GitHub\\HackUTD2023\\DataAnalytics.ipynb Cell 2\u001b[0m line \u001b[0;36m5\n\u001b[0;32m     <a href='vscode-notebook-cell:/c%3A/Users/vkotr/OneDrive/Documents/GitHub/HackUTD2023/DataAnalytics.ipynb#W1sZmlsZQ%3D%3D?line=49'>50</a>\u001b[0m         homebuyerDF\u001b[39m.\u001b[39mat[i, \u001b[39m\"\u001b[39m\u001b[39mApproved\u001b[39m\u001b[39m\"\u001b[39m] \u001b[39m=\u001b[39m \u001b[39m\"\u001b[39m\u001b[39mN\u001b[39m\u001b[39m\"\u001b[39m\n\u001b[0;32m     <a href='vscode-notebook-cell:/c%3A/Users/vkotr/OneDrive/Documents/GitHub/HackUTD2023/DataAnalytics.ipynb#W1sZmlsZQ%3D%3D?line=52'>53</a>\u001b[0m \u001b[39m#Save to CSV\u001b[39;00m\n\u001b[1;32m---> <a href='vscode-notebook-cell:/c%3A/Users/vkotr/OneDrive/Documents/GitHub/HackUTD2023/DataAnalytics.ipynb#W1sZmlsZQ%3D%3D?line=53'>54</a>\u001b[0m homebuyerDF\u001b[39m.\u001b[39;49mto_csv(\u001b[39m\"\u001b[39;49m\u001b[39mAnalyzedHomeBuyerInfo.csv\u001b[39;49m\u001b[39m\"\u001b[39;49m, index\u001b[39m=\u001b[39;49m\u001b[39mFalse\u001b[39;49;00m)\n",
      "File \u001b[1;32mc:\\Users\\vkotr\\AppData\\Local\\Programs\\Python\\Python311\\Lib\\site-packages\\pandas\\util\\_decorators.py:211\u001b[0m, in \u001b[0;36mdeprecate_kwarg.<locals>._deprecate_kwarg.<locals>.wrapper\u001b[1;34m(*args, **kwargs)\u001b[0m\n\u001b[0;32m    209\u001b[0m     \u001b[39melse\u001b[39;00m:\n\u001b[0;32m    210\u001b[0m         kwargs[new_arg_name] \u001b[39m=\u001b[39m new_arg_value\n\u001b[1;32m--> 211\u001b[0m \u001b[39mreturn\u001b[39;00m func(\u001b[39m*\u001b[39;49margs, \u001b[39m*\u001b[39;49m\u001b[39m*\u001b[39;49mkwargs)\n",
      "File \u001b[1;32mc:\\Users\\vkotr\\AppData\\Local\\Programs\\Python\\Python311\\Lib\\site-packages\\pandas\\core\\generic.py:3720\u001b[0m, in \u001b[0;36mNDFrame.to_csv\u001b[1;34m(self, path_or_buf, sep, na_rep, float_format, columns, header, index, index_label, mode, encoding, compression, quoting, quotechar, lineterminator, chunksize, date_format, doublequote, escapechar, decimal, errors, storage_options)\u001b[0m\n\u001b[0;32m   3709\u001b[0m df \u001b[39m=\u001b[39m \u001b[39mself\u001b[39m \u001b[39mif\u001b[39;00m \u001b[39misinstance\u001b[39m(\u001b[39mself\u001b[39m, ABCDataFrame) \u001b[39melse\u001b[39;00m \u001b[39mself\u001b[39m\u001b[39m.\u001b[39mto_frame()\n\u001b[0;32m   3711\u001b[0m formatter \u001b[39m=\u001b[39m DataFrameFormatter(\n\u001b[0;32m   3712\u001b[0m     frame\u001b[39m=\u001b[39mdf,\n\u001b[0;32m   3713\u001b[0m     header\u001b[39m=\u001b[39mheader,\n\u001b[1;32m   (...)\u001b[0m\n\u001b[0;32m   3717\u001b[0m     decimal\u001b[39m=\u001b[39mdecimal,\n\u001b[0;32m   3718\u001b[0m )\n\u001b[1;32m-> 3720\u001b[0m \u001b[39mreturn\u001b[39;00m DataFrameRenderer(formatter)\u001b[39m.\u001b[39;49mto_csv(\n\u001b[0;32m   3721\u001b[0m     path_or_buf,\n\u001b[0;32m   3722\u001b[0m     lineterminator\u001b[39m=\u001b[39;49mlineterminator,\n\u001b[0;32m   3723\u001b[0m     sep\u001b[39m=\u001b[39;49msep,\n\u001b[0;32m   3724\u001b[0m     encoding\u001b[39m=\u001b[39;49mencoding,\n\u001b[0;32m   3725\u001b[0m     errors\u001b[39m=\u001b[39;49merrors,\n\u001b[0;32m   3726\u001b[0m     compression\u001b[39m=\u001b[39;49mcompression,\n\u001b[0;32m   3727\u001b[0m     quoting\u001b[39m=\u001b[39;49mquoting,\n\u001b[0;32m   3728\u001b[0m     columns\u001b[39m=\u001b[39;49mcolumns,\n\u001b[0;32m   3729\u001b[0m     index_label\u001b[39m=\u001b[39;49mindex_label,\n\u001b[0;32m   3730\u001b[0m     mode\u001b[39m=\u001b[39;49mmode,\n\u001b[0;32m   3731\u001b[0m     chunksize\u001b[39m=\u001b[39;49mchunksize,\n\u001b[0;32m   3732\u001b[0m     quotechar\u001b[39m=\u001b[39;49mquotechar,\n\u001b[0;32m   3733\u001b[0m     date_format\u001b[39m=\u001b[39;49mdate_format,\n\u001b[0;32m   3734\u001b[0m     doublequote\u001b[39m=\u001b[39;49mdoublequote,\n\u001b[0;32m   3735\u001b[0m     escapechar\u001b[39m=\u001b[39;49mescapechar,\n\u001b[0;32m   3736\u001b[0m     storage_options\u001b[39m=\u001b[39;49mstorage_options,\n\u001b[0;32m   3737\u001b[0m )\n",
      "File \u001b[1;32mc:\\Users\\vkotr\\AppData\\Local\\Programs\\Python\\Python311\\Lib\\site-packages\\pandas\\util\\_decorators.py:211\u001b[0m, in \u001b[0;36mdeprecate_kwarg.<locals>._deprecate_kwarg.<locals>.wrapper\u001b[1;34m(*args, **kwargs)\u001b[0m\n\u001b[0;32m    209\u001b[0m     \u001b[39melse\u001b[39;00m:\n\u001b[0;32m    210\u001b[0m         kwargs[new_arg_name] \u001b[39m=\u001b[39m new_arg_value\n\u001b[1;32m--> 211\u001b[0m \u001b[39mreturn\u001b[39;00m func(\u001b[39m*\u001b[39;49margs, \u001b[39m*\u001b[39;49m\u001b[39m*\u001b[39;49mkwargs)\n",
      "File \u001b[1;32mc:\\Users\\vkotr\\AppData\\Local\\Programs\\Python\\Python311\\Lib\\site-packages\\pandas\\io\\formats\\format.py:1189\u001b[0m, in \u001b[0;36mDataFrameRenderer.to_csv\u001b[1;34m(self, path_or_buf, encoding, sep, columns, index_label, mode, compression, quoting, quotechar, lineterminator, chunksize, date_format, doublequote, escapechar, errors, storage_options)\u001b[0m\n\u001b[0;32m   1168\u001b[0m     created_buffer \u001b[39m=\u001b[39m \u001b[39mFalse\u001b[39;00m\n\u001b[0;32m   1170\u001b[0m csv_formatter \u001b[39m=\u001b[39m CSVFormatter(\n\u001b[0;32m   1171\u001b[0m     path_or_buf\u001b[39m=\u001b[39mpath_or_buf,\n\u001b[0;32m   1172\u001b[0m     lineterminator\u001b[39m=\u001b[39mlineterminator,\n\u001b[1;32m   (...)\u001b[0m\n\u001b[0;32m   1187\u001b[0m     formatter\u001b[39m=\u001b[39m\u001b[39mself\u001b[39m\u001b[39m.\u001b[39mfmt,\n\u001b[0;32m   1188\u001b[0m )\n\u001b[1;32m-> 1189\u001b[0m csv_formatter\u001b[39m.\u001b[39;49msave()\n\u001b[0;32m   1191\u001b[0m \u001b[39mif\u001b[39;00m created_buffer:\n\u001b[0;32m   1192\u001b[0m     \u001b[39massert\u001b[39;00m \u001b[39misinstance\u001b[39m(path_or_buf, StringIO)\n",
      "File \u001b[1;32mc:\\Users\\vkotr\\AppData\\Local\\Programs\\Python\\Python311\\Lib\\site-packages\\pandas\\io\\formats\\csvs.py:241\u001b[0m, in \u001b[0;36mCSVFormatter.save\u001b[1;34m(self)\u001b[0m\n\u001b[0;32m    237\u001b[0m \u001b[39m\u001b[39m\u001b[39m\"\"\"\u001b[39;00m\n\u001b[0;32m    238\u001b[0m \u001b[39mCreate the writer & save.\u001b[39;00m\n\u001b[0;32m    239\u001b[0m \u001b[39m\"\"\"\u001b[39;00m\n\u001b[0;32m    240\u001b[0m \u001b[39m# apply compression and byte/text conversion\u001b[39;00m\n\u001b[1;32m--> 241\u001b[0m \u001b[39mwith\u001b[39;49;00m get_handle(\n\u001b[0;32m    242\u001b[0m     \u001b[39mself\u001b[39;49m\u001b[39m.\u001b[39;49mfilepath_or_buffer,\n\u001b[0;32m    243\u001b[0m     \u001b[39mself\u001b[39;49m\u001b[39m.\u001b[39;49mmode,\n\u001b[0;32m    244\u001b[0m     encoding\u001b[39m=\u001b[39;49m\u001b[39mself\u001b[39;49m\u001b[39m.\u001b[39;49mencoding,\n\u001b[0;32m    245\u001b[0m     errors\u001b[39m=\u001b[39;49m\u001b[39mself\u001b[39;49m\u001b[39m.\u001b[39;49merrors,\n\u001b[0;32m    246\u001b[0m     compression\u001b[39m=\u001b[39;49m\u001b[39mself\u001b[39;49m\u001b[39m.\u001b[39;49mcompression,\n\u001b[0;32m    247\u001b[0m     storage_options\u001b[39m=\u001b[39;49m\u001b[39mself\u001b[39;49m\u001b[39m.\u001b[39;49mstorage_options,\n\u001b[0;32m    248\u001b[0m ) \u001b[39mas\u001b[39;49;00m handles:\n\u001b[0;32m    249\u001b[0m \n\u001b[0;32m    250\u001b[0m     \u001b[39m# Note: self.encoding is irrelevant here\u001b[39;49;00m\n\u001b[0;32m    251\u001b[0m     \u001b[39mself\u001b[39;49m\u001b[39m.\u001b[39;49mwriter \u001b[39m=\u001b[39;49m csvlib\u001b[39m.\u001b[39;49mwriter(\n\u001b[0;32m    252\u001b[0m         handles\u001b[39m.\u001b[39;49mhandle,\n\u001b[0;32m    253\u001b[0m         lineterminator\u001b[39m=\u001b[39;49m\u001b[39mself\u001b[39;49m\u001b[39m.\u001b[39;49mlineterminator,\n\u001b[1;32m   (...)\u001b[0m\n\u001b[0;32m    258\u001b[0m         quotechar\u001b[39m=\u001b[39;49m\u001b[39mself\u001b[39;49m\u001b[39m.\u001b[39;49mquotechar,\n\u001b[0;32m    259\u001b[0m     )\n\u001b[0;32m    261\u001b[0m     \u001b[39mself\u001b[39;49m\u001b[39m.\u001b[39;49m_save()\n",
      "File \u001b[1;32mc:\\Users\\vkotr\\AppData\\Local\\Programs\\Python\\Python311\\Lib\\site-packages\\pandas\\io\\common.py:133\u001b[0m, in \u001b[0;36mIOHandles.__exit__\u001b[1;34m(self, *args)\u001b[0m\n\u001b[0;32m    132\u001b[0m \u001b[39mdef\u001b[39;00m \u001b[39m__exit__\u001b[39m(\u001b[39mself\u001b[39m, \u001b[39m*\u001b[39margs: Any) \u001b[39m-\u001b[39m\u001b[39m>\u001b[39m \u001b[39mNone\u001b[39;00m:\n\u001b[1;32m--> 133\u001b[0m     \u001b[39mself\u001b[39;49m\u001b[39m.\u001b[39;49mclose()\n",
      "File \u001b[1;32mc:\\Users\\vkotr\\AppData\\Local\\Programs\\Python\\Python311\\Lib\\site-packages\\pandas\\io\\common.py:125\u001b[0m, in \u001b[0;36mIOHandles.close\u001b[1;34m(self)\u001b[0m\n\u001b[0;32m    123\u001b[0m     \u001b[39mself\u001b[39m\u001b[39m.\u001b[39mcreated_handles\u001b[39m.\u001b[39mremove(\u001b[39mself\u001b[39m\u001b[39m.\u001b[39mhandle)\n\u001b[0;32m    124\u001b[0m \u001b[39mfor\u001b[39;00m handle \u001b[39min\u001b[39;00m \u001b[39mself\u001b[39m\u001b[39m.\u001b[39mcreated_handles:\n\u001b[1;32m--> 125\u001b[0m     handle\u001b[39m.\u001b[39mclose()\n\u001b[0;32m    126\u001b[0m \u001b[39mself\u001b[39m\u001b[39m.\u001b[39mcreated_handles \u001b[39m=\u001b[39m []\n\u001b[0;32m    127\u001b[0m \u001b[39mself\u001b[39m\u001b[39m.\u001b[39mis_wrapped \u001b[39m=\u001b[39m \u001b[39mFalse\u001b[39;00m\n",
      "\u001b[1;31mOSError\u001b[0m: [Errno 9] Bad file descriptor"
     ]
    }
   ],
   "source": [
    "homebuyerDF = pd.read_csv('HomeBuyerInfo.csv')\n",
    "\n",
    "homebuyerDF[\"LTV\"] = homebuyerDF[\"LoanAmount\"]/homebuyerDF[\"AppraisedValue\"]\n",
    "homebuyerDF[\"MonthlyDebt\"] = homebuyerDF[\"CarPayment\"] + homebuyerDF[\"CreditCardPayment\"] + homebuyerDF[\"MonthlyMortgagePayment\"] + homebuyerDF[\"StudentLoanPayments\"]\n",
    "homebuyerDF[\"DTI\"] = homebuyerDF[\"MonthlyDebt\"]/homebuyerDF[\"GrossMonthlyIncome\"]\n",
    "homebuyerDF[\"FEDTI\"] = homebuyerDF[\"MonthlyMortgagePayment\"]/homebuyerDF[\"GrossMonthlyIncome\"]\n",
    "#Add Approval Column\n",
    "homebuyerDF[\"Approved\"] = \"\"\n",
    "\n",
    "\"\"\"\n",
    "A potential buyer should be approved for home purchases iff:\n",
    "CreditScore >= 640\n",
    "LTV <= 0.8 is preferred\n",
    "LTV > .8 and < .95 is approved but high risk (high interest rate)\n",
    "DTI {\n",
    "    .43 is hard cap\n",
    "    .36 is soft cap\n",
    "}\n",
    "\n",
    "FEDTI <= .28\n",
    "\n",
    "\"\"\"\n",
    "#Approval is Y, R-LTV, R-DTI, N for HomebuyerDF\n",
    "for i, row in homebuyerDF.iterrows():\n",
    "    if (\n",
    "        row[\"CreditScore\"] >= 640 and\n",
    "        row[\"LTV\"] <= .8 and\n",
    "        row[\"DTI\"] <= .36 and\n",
    "        row[\"FEDTI\"] <= .28\n",
    "    ):\n",
    "        homebuyerDF.at[i, \"Approved\"] = \"Y\"\n",
    "    elif (\n",
    "        row[\"CreditScore\"] >= 640 and\n",
    "        row[\"LTV\"] <= .95 and\n",
    "        row[\"DTI\"] <= .36 and\n",
    "        row[\"FEDTI\"] <= .28\n",
    "    ):\n",
    "        pmi = (homebuyerDF.at[i, 'AppraisedValue']*0.01)/12\n",
    "        homebuyerDF.at[i, \"MonthlyMortgagePayment\"]+=pmi\n",
    "        homebuyerDF.at[i, \"MonthlyDebt\"] += pmi\n",
    "        homebuyerDF.at[i, \"Approved\"] = \"R-LTV\"\n",
    "    elif (\n",
    "        row[\"CreditScore\"] >= 640 and\n",
    "        row[\"LTV\"] <= .8 and\n",
    "        row[\"DTI\"] <= .43 and\n",
    "        row[\"FEDTI\"] <= .28\n",
    "    ):\n",
    "        homebuyerDF.at[i, \"Approved\"] = \"R-DTI\"\n",
    "    else:\n",
    "        homebuyerDF.at[i, \"Approved\"] = \"N\"\n",
    "\n",
    "        \n",
    "#Save to CSV\n",
    "homebuyerDF.to_csv(\"AnalyzedHomeBuyerInfo.csv\", index=False)\n",
    "\n"
   ]
  },
  {
   "cell_type": "code",
   "execution_count": 18,
   "metadata": {},
   "outputs": [],
   "source": [
    "homebuyerDF = pd.read_csv('AnalyzedHomeBuyerInfo.csv')"
   ]
  },
  {
   "cell_type": "code",
   "execution_count": 19,
   "metadata": {},
   "outputs": [
    {
     "name": "stdout",
     "output_type": "stream",
     "text": [
      "0.1229118273591918 0.14933360366814608 0.613398192516889\n",
      "0.11969824845773651 0.1466254218478656 0.6184868043147931\n"
     ]
    }
   ],
   "source": [
    "cc_md_pct = homebuyerDF[\"CreditCardPayment\"]/homebuyerDF[\"MonthlyDebt\"]\n",
    "c_md_pct = homebuyerDF[\"CarPayment\"]/homebuyerDF[\"MonthlyDebt\"]\n",
    "mm_md_pct = homebuyerDF[\"MonthlyMortgagePayment\"]/homebuyerDF[\"MonthlyDebt\"]\n",
    "\n",
    "print(cc_md_pct.mean(), c_md_pct.mean(), mm_md_pct.mean())\n",
    "print(cc_md_pct.median(), c_md_pct.median(), mm_md_pct.median())"
   ]
  },
  {
   "cell_type": "code",
   "execution_count": 20,
   "metadata": {},
   "outputs": [
    {
     "data": {
      "text/plain": [
       "N        7819\n",
       "R-LTV    1023\n",
       "Y         885\n",
       "R-DTI     273\n",
       "Name: Approved, dtype: int64"
      ]
     },
     "execution_count": 20,
     "metadata": {},
     "output_type": "execute_result"
    }
   ],
   "source": [
    "\n",
    "approvedDF = homebuyerDF[homebuyerDF[\"Approved\"] == \"Y\"].drop(columns=[\"Approved\", \"ID\"])\n",
    "ltv_ristDF = homebuyerDF[homebuyerDF[\"Approved\"] == \"R-LTV\"].drop(columns=[\"Approved\", \"ID\"])\n",
    "dti_riskDF = homebuyerDF[homebuyerDF[\"Approved\"] == \"R-DTI\"].drop(columns=[\"Approved\", \"ID\"])\n",
    "\n",
    "all_approvedDF = homebuyerDF[homebuyerDF[\"Approved\"] != \"N\"].drop(columns=[\"Approved\", \"ID\"])\n",
    "\n",
    "not_approvedDF = homebuyerDF[homebuyerDF[\"Approved\"] == \"N\"].drop(columns=[\"Approved\", \"ID\"])\n",
    "\n",
    "df_list = [approvedDF, ltv_ristDF, dti_riskDF, not_approvedDF]\n",
    "\n",
    "homebuyerDF[\"Approved\"].value_counts()\n"
   ]
  },
  {
   "cell_type": "code",
   "execution_count": 21,
   "metadata": {},
   "outputs": [],
   "source": [
    "def breakdown_monthly_debt(dataframeVal):\n",
    "    dataframeVal = pd.DataFrame(dataframeVal)\n",
    "    # breakdown of monthly debt\n",
    "    cc_md_pct = dataframeVal[\"CreditCardPayment\"]/dataframeVal[\"MonthlyDebt\"]\n",
    "    c_md_pct = dataframeVal[\"CarPayment\"]/dataframeVal[\"MonthlyDebt\"]\n",
    "    mm_md_pct = dataframeVal[\"MonthlyMortgagePayment\"]/dataframeVal[\"MonthlyDebt\"]\n",
    "\n",
    "    print(cc_md_pct.mean(), c_md_pct.mean(), mm_md_pct.mean())\n",
    "    print(cc_md_pct.median(), c_md_pct.median(), mm_md_pct.median())"
   ]
  },
  {
   "cell_type": "code",
   "execution_count": 22,
   "metadata": {},
   "outputs": [
    {
     "name": "stdout",
     "output_type": "stream",
     "text": [
      "0.14692126860888408 0.1791200226160059 0.5370657054699185\n",
      "0.14360581137283424 0.1779586594296812 0.5345467537365277\n",
      "0.12403668368142651 0.15349320513994205 0.6071568464199925\n",
      "0.12180911012783072 0.152604121727865 0.6074864298146474\n",
      "0.14312065486612718 0.17026438942819933 0.5560895662617273\n",
      "0.14376131887007337 0.16973707488034728 0.5610415673876742\n",
      "0.11934153788061179 0.14468718371840855 0.6248554636591517\n",
      "0.11681265215666725 0.14172761339171894 0.6302478837702867\n"
     ]
    }
   ],
   "source": [
    "for dfVal in df_list:\n",
    "    breakdown_monthly_debt(dfVal)"
   ]
  },
  {
   "cell_type": "code",
   "execution_count": 23,
   "metadata": {},
   "outputs": [
    {
     "data": {
      "text/plain": [
       "<Axes: >"
      ]
     },
     "execution_count": 23,
     "metadata": {},
     "output_type": "execute_result"
    },
    {
     "data": {
      "image/png": "[encoded data removed]",
      "text/plain": [
       "<Figure size 640x480 with 1 Axes>"
      ]
     },
     "metadata": {},
     "output_type": "display_data"
    }
   ],
   "source": [
    "from scipy.stats import percentileofscore\n",
    "\n",
    "# pVal = percentileofscore(all_approvedDF[\"LTV\"], )\n",
    "all_approvedDF[\"LTV\"].describe()\n",
    "all_approvedDF[\"DTI\"].hist(bins=100)"
   ]
  },
  {
   "cell_type": "code",
   "execution_count": 24,
   "metadata": {},
   "outputs": [
    {
     "data": {
      "text/html": [
       "<div>\n",
       "<style scoped>\n",
       "    .dataframe tbody tr th:only-of-type {\n",
       "        vertical-align: middle;\n",
       "    }\n",
       "\n",
       "    .dataframe tbody tr th {\n",
       "        vertical-align: top;\n",
       "    }\n",
       "\n",
       "    .dataframe thead th {\n",
       "        text-align: right;\n",
       "    }\n",
       "</style>\n",
       "<table border=\"1\" class=\"dataframe\">\n",
       "  <thead>\n",
       "    <tr style=\"text-align: right;\">\n",
       "      <th></th>\n",
       "      <th>CreditValue</th>\n",
       "      <th>DownPaymentValue</th>\n",
       "      <th>DebtValue</th>\n",
       "      <th>HousingDebtValue</th>\n",
       "    </tr>\n",
       "  </thead>\n",
       "  <tbody>\n",
       "    <tr>\n",
       "      <th>0</th>\n",
       "      <td>Good</td>\n",
       "      <td>Bad</td>\n",
       "      <td>Bad</td>\n",
       "      <td>Bad</td>\n",
       "    </tr>\n",
       "    <tr>\n",
       "      <th>1</th>\n",
       "      <td>Bad</td>\n",
       "      <td>Bad</td>\n",
       "      <td>Bad</td>\n",
       "      <td>Bad</td>\n",
       "    </tr>\n",
       "    <tr>\n",
       "      <th>2</th>\n",
       "      <td>Good</td>\n",
       "      <td>Bad</td>\n",
       "      <td>Bad</td>\n",
       "      <td>Bad</td>\n",
       "    </tr>\n",
       "    <tr>\n",
       "      <th>3</th>\n",
       "      <td>Good</td>\n",
       "      <td>Bad</td>\n",
       "      <td>Good</td>\n",
       "      <td>Good</td>\n",
       "    </tr>\n",
       "    <tr>\n",
       "      <th>4</th>\n",
       "      <td>Bad</td>\n",
       "      <td>Bad</td>\n",
       "      <td>Bad</td>\n",
       "      <td>Bad</td>\n",
       "    </tr>\n",
       "    <tr>\n",
       "      <th>...</th>\n",
       "      <td>...</td>\n",
       "      <td>...</td>\n",
       "      <td>...</td>\n",
       "      <td>...</td>\n",
       "    </tr>\n",
       "    <tr>\n",
       "      <th>9995</th>\n",
       "      <td>Good</td>\n",
       "      <td>Good</td>\n",
       "      <td>Bad</td>\n",
       "      <td>Bad</td>\n",
       "    </tr>\n",
       "    <tr>\n",
       "      <th>9996</th>\n",
       "      <td>Good</td>\n",
       "      <td>Bad</td>\n",
       "      <td>Mid</td>\n",
       "      <td>Good</td>\n",
       "    </tr>\n",
       "    <tr>\n",
       "      <th>9997</th>\n",
       "      <td>Bad</td>\n",
       "      <td>Bad</td>\n",
       "      <td>Good</td>\n",
       "      <td>Good</td>\n",
       "    </tr>\n",
       "    <tr>\n",
       "      <th>9998</th>\n",
       "      <td>Good</td>\n",
       "      <td>Bad</td>\n",
       "      <td>Mid</td>\n",
       "      <td>Good</td>\n",
       "    </tr>\n",
       "    <tr>\n",
       "      <th>9999</th>\n",
       "      <td>Bad</td>\n",
       "      <td>Good</td>\n",
       "      <td>Bad</td>\n",
       "      <td>Bad</td>\n",
       "    </tr>\n",
       "  </tbody>\n",
       "</table>\n",
       "<p>10000 rows × 4 columns</p>\n",
       "</div>"
      ],
      "text/plain": [
       "     CreditValue DownPaymentValue DebtValue HousingDebtValue\n",
       "0           Good              Bad       Bad              Bad\n",
       "1            Bad              Bad       Bad              Bad\n",
       "2           Good              Bad       Bad              Bad\n",
       "3           Good              Bad      Good             Good\n",
       "4            Bad              Bad       Bad              Bad\n",
       "...          ...              ...       ...              ...\n",
       "9995        Good             Good       Bad              Bad\n",
       "9996        Good              Bad       Mid             Good\n",
       "9997         Bad              Bad      Good             Good\n",
       "9998        Good              Bad       Mid             Good\n",
       "9999         Bad             Good       Bad              Bad\n",
       "\n",
       "[10000 rows x 4 columns]"
      ]
     },
     "execution_count": 24,
     "metadata": {},
     "output_type": "execute_result"
    }
   ],
   "source": [
    "#######################\n",
    "'''\n",
    "Return Categorical values for each of the features for rejection.\n",
    "'''\n",
    "#######################\n",
    "\n",
    "categoricalDF = pd.DataFrame()\n",
    "\n",
    "categoricalDF[\"CreditValue\"] = np.where(homebuyerDF[\"CreditScore\"] < 640, \"Bad\", \"Good\")\n",
    "categoricalDF[\"DownPaymentValue\"] = np.where(homebuyerDF[\"LTV\"] < 0.8, \"Good\", \"Bad\")\n",
    "cnd = [homebuyerDF[\"DTI\"] < 0.36, homebuyerDF[\"DTI\"] < 0.43, homebuyerDF[\"DTI\"] >= 0.43]\n",
    "vals = [\"Good\", \"Mid\", \"Bad\"]\n",
    "categoricalDF[\"DebtValue\"] = np.select(cnd, vals)\n",
    "categoricalDF[\"HousingDebtValue\"] = np.where(homebuyerDF[\"FEDTI\"] <= 0.28, \"Good\", \"Bad\")\n",
    "\n",
    "categoricalDF"
   ]
  },
  {
   "cell_type": "code",
   "execution_count": 26,
   "metadata": {},
   "outputs": [
    {
     "data": {
      "text/plain": [
       "<Axes: >"
      ]
     },
     "execution_count": 26,
     "metadata": {},
     "output_type": "execute_result"
    },
    {
     "data": {
      "image/png": "[encoded data removed]",
      "text/plain": [
       "<Figure size 640x480 with 1 Axes>"
      ]
     },
     "metadata": {},
     "output_type": "display_data"
    }
   ],
   "source": [
    "np.percentile(homebuyerDF[\"AppraisedValue\"], [33, 66])\n",
    "label = pd.qcut(homebuyerDF[\"AppraisedValue\"], [0, 0.33, 0.66, 1], labels=[\"Low\", \"Medium\", \"High\"])\n",
    "homebuyerDF = homebuyerDF.assign(AppraisedValueLabel=label)\n",
    "low = homebuyerDF[homebuyerDF[\"AppraisedValueLabel\"] == \"Low\"]\n",
    "low[\"AppraisedValue\"].hist(bins=100)"
   ]
  },
  {
   "cell_type": "code",
   "execution_count": 44,
   "metadata": {},
   "outputs": [
    {
     "name": "stdout",
     "output_type": "stream",
     "text": [
      "19.027968821641448\n",
      "265310.0\n",
      "16.139385602934432\n",
      "above\n"
     ]
    }
   ],
   "source": [
    "from scipy.stats import percentileofscore\n",
    "\n",
    "def compare_housevalue(house_appraisal, income):\n",
    "\n",
    "    # all_approvedDF[\"GrossMonthlyIncome\"].hist(bins=100)\n",
    "    equivalent_percentile = percentileofscore(all_approvedDF[\"GrossMonthlyIncome\"], income)\n",
    "    print(equivalent_percentile)\n",
    "\n",
    "    equivalent_appraisal = np.percentile(all_approvedDF[\"AppraisedValue\"], equivalent_percentile)\n",
    "    print(equivalent_appraisal)\n",
    "\n",
    "    actual_appraisal_percentile = percentileofscore(all_approvedDF[\"AppraisedValue\"], house_appraisal)\n",
    "    print(actual_appraisal_percentile)\n",
    "\n",
    "    income_appraisal_proportionality = np.where(equivalent_percentile < actual_appraisal_percentile, \"below\", \"above\")        \n",
    "    print(income_appraisal_proportionality)\n",
    "\n",
    "\n",
    "compare_housevalue(260000, 7000)\n",
    "\n"
   ]
  }
 ],
 "metadata": {
  "kernelspec": {
   "display_name": "base",
   "language": "python",
   "name": "python3"
  },
  "language_info": {
   "codemirror_mode": {
    "name": "ipython",
    "version": 3
   },
   "file_extension": ".py",
   "mimetype": "text/x-python",
   "name": "python",
   "nbconvert_exporter": "python",
   "pygments_lexer": "ipython3",
   "version": "3.11.4"
  }
 },
 "nbformat": 4,
 "nbformat_minor": 2
}
